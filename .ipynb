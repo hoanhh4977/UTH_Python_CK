{
 "cells": [
  {
   "cell_type": "code",
   "execution_count": 1,
   "id": "7bc7a7b3",
   "metadata": {},
   "outputs": [],
   "source": [
    "from langchain_community.utilities import SQLDatabase\n",
    "\n",
    "db_file = \"marketing_test.db\"\n",
    " \n",
    "db = SQLDatabase.from_uri(f\"sqlite:///{db_file}\")"
   ]
  },
  {
   "cell_type": "code",
   "execution_count": 2,
   "id": "b87ec5e7",
   "metadata": {},
   "outputs": [],
   "source": [
    "system_message = \"\"\"\n",
    "You are an agent designed to interact with a SQL database.\n",
    "Given an input question, create a syntactically correct {dialect} query to run,\n",
    "then look at the results of the query and return the answer. Unless the user\n",
    "specifies a specific number of examples they wish to obtain, always limit your\n",
    "query to at most {top_k} results.\n",
    "\n",
    "You can order the results by a relevant column to return the most interesting\n",
    "examples in the database. Never query for all the columns from a specific table,\n",
    "only ask for the relevant columns given the question.\n",
    "\n",
    "You MUST double check your query before executing it. If you get an error while\n",
    "executing a query, rewrite the query and try again.\n",
    "\n",
    "DO NOT make any DML statements (INSERT, UPDATE, DELETE, DROP etc.) to the\n",
    "database.\n",
    "\n",
    "To start you should ALWAYS look at the tables in the database to see what you\n",
    "can query. Do NOT skip this step.\n",
    "\n",
    "Then you should query the schema of the most relevant tables.\n",
    "\"\"\".format(\n",
    "    dialect=\"SQLite\",\n",
    "    top_k=5,\n",
    ")"
   ]
  },
  {
   "cell_type": "code",
   "execution_count": 3,
   "id": "9f160f5c",
   "metadata": {},
   "outputs": [],
   "source": [
    "from langchain_core.messages import HumanMessage\n",
    "from langgraph.prebuilt import create_react_agent\n",
    "from langchain_community.agent_toolkits import SQLDatabaseToolkit\n",
    "\n",
    "from src.ai.llm.azure_client import AzureChatModel\n",
    "\n",
    "toolkit = SQLDatabaseToolkit(db=db, llm=AzureChatModel().get_client())\n",
    "\n",
    "tools = toolkit.get_tools()\n",
    "\n",
    "agent_executor = create_react_agent(AzureChatModel().get_client(), tools, prompt=system_message)"
   ]
  },
  {
   "cell_type": "code",
   "execution_count": 20,
   "id": "47d1c33b",
   "metadata": {},
   "outputs": [
    {
     "name": "stdout",
     "output_type": "stream",
     "text": [
      "================================\u001b[1m Human Message \u001b[0m=================================\n",
      "\n",
      "Có bao nhiêu chiến dịch truyền thông trên tiktok?\n",
      "==================================\u001b[1m Ai Message \u001b[0m==================================\n",
      "Tool Calls:\n",
      "  sql_db_list_tables (call_qyRMRRsuM5a37hXQqp2OoRoA)\n",
      " Call ID: call_qyRMRRsuM5a37hXQqp2OoRoA\n",
      "  Args:\n",
      "=================================\u001b[1m Tool Message \u001b[0m=================================\n",
      "Name: sql_db_list_tables\n",
      "\n",
      "AdSpend, Campaign, Customers, Feedback, Leads, Sales\n",
      "==================================\u001b[1m Ai Message \u001b[0m==================================\n",
      "Tool Calls:\n",
      "  sql_db_schema (call_RXOLVNJS7ByPwjKEaInycNqY)\n",
      " Call ID: call_RXOLVNJS7ByPwjKEaInycNqY\n",
      "  Args:\n",
      "    table_names: Campaign\n",
      "=================================\u001b[1m Tool Message \u001b[0m=================================\n",
      "Name: sql_db_schema\n",
      "\n",
      "\n",
      "CREATE TABLE \"Campaign\" (\n",
      "\t\"CampaignID\" INTEGER, \n",
      "\t\"Name\" TEXT, \n",
      "\t\"Channel\" TEXT, \n",
      "\t\"StartDate\" DATE, \n",
      "\t\"EndDate\" DATE, \n",
      "\t\"Budget\" REAL, \n",
      "\tPRIMARY KEY (\"CampaignID\")\n",
      ")\n",
      "\n",
      "/*\n",
      "3 rows from Campaign table:\n",
      "CampaignID\tName\tChannel\tStartDate\tEndDate\tBudget\n",
      "1\tCampaign 1\tEmail\t2024-11-29\t2024-12-17\t3109.8\n",
      "2\tCampaign 2\tTikTok\t2025-03-28\t2025-05-11\t4123.0\n",
      "3\tCampaign 3\tFacebook\t2025-01-31\t2025-03-11\t1748.71\n",
      "*/\n",
      "==================================\u001b[1m Ai Message \u001b[0m==================================\n",
      "Tool Calls:\n",
      "  sql_db_query_checker (call_Q9oui9Aq5wyFS5LvvOuVlJ8q)\n",
      " Call ID: call_Q9oui9Aq5wyFS5LvvOuVlJ8q\n",
      "  Args:\n",
      "    query: SELECT COUNT(*) AS TikTokCampaignCount FROM Campaign WHERE Channel = 'TikTok';\n",
      "=================================\u001b[1m Tool Message \u001b[0m=================================\n",
      "Name: sql_db_query_checker\n",
      "\n",
      "SELECT COUNT(*) AS TikTokCampaignCount FROM Campaign WHERE Channel = 'TikTok';\n",
      "==================================\u001b[1m Ai Message \u001b[0m==================================\n",
      "Tool Calls:\n",
      "  sql_db_query (call_AtFD8peu0ZzvdJIoEWG4BXyo)\n",
      " Call ID: call_AtFD8peu0ZzvdJIoEWG4BXyo\n",
      "  Args:\n",
      "    query: SELECT COUNT(*) AS TikTokCampaignCount FROM Campaign WHERE Channel = 'TikTok';\n",
      "=================================\u001b[1m Tool Message \u001b[0m=================================\n",
      "Name: sql_db_query\n",
      "\n",
      "[(1,)]\n",
      "==================================\u001b[1m Ai Message \u001b[0m==================================\n",
      "\n",
      "Có 1 chiến dịch truyền thông trên kênh TikTok trong cơ sở dữ liệu.\n"
     ]
    }
   ],
   "source": [
    "question = \"Có bao nhiêu chiến dịch truyền thông trên tiktok?\"\n",
    "\n",
    "output_state = agent_executor.invoke({\"messages\": [{\"role\": \"user\", \"content\": question}]})\n",
    "\n"
   ]
  },
  {
   "cell_type": "code",
   "execution_count": 13,
   "id": "223bab81",
   "metadata": {},
   "outputs": [
    {
     "data": {
      "text/plain": [
       "\"[(2, 'Campaign 2', 'TikTok', '2025-03-28', '2025-05-11', 4123.0)]\""
      ]
     },
     "execution_count": 13,
     "metadata": {},
     "output_type": "execute_result"
    }
   ],
   "source": [
    "db.run(\"SELECT * FROM CAMPAIGN WHERE CHANNEL = 'TikTok'\")"
   ]
  },
  {
   "cell_type": "code",
   "execution_count": 27,
   "id": "dd910962",
   "metadata": {},
   "outputs": [
    {
     "name": "stdout",
     "output_type": "stream",
     "text": [
      "<class 'langchain_core.messages.human.HumanMessage'>\n",
      "\n",
      "Có bao nhiêu chiến dịch truyền thông trên tiktok?\n",
      "\n",
      "<class 'langchain_core.messages.ai.AIMessage'>\n",
      "\n",
      "\n",
      "\n",
      "<class 'langchain_core.messages.tool.ToolMessage'>\n",
      "\n",
      "AdSpend, Campaign, Customers, Feedback, Leads, Sales\n",
      "\n",
      "<class 'langchain_core.messages.ai.AIMessage'>\n",
      "\n",
      "\n",
      "\n",
      "<class 'langchain_core.messages.tool.ToolMessage'>\n",
      "\n",
      "\n",
      "CREATE TABLE \"Campaign\" (\n",
      "\t\"CampaignID\" INTEGER, \n",
      "\t\"Name\" TEXT, \n",
      "\t\"Channel\" TEXT, \n",
      "\t\"StartDate\" DATE, \n",
      "\t\"EndDate\" DATE, \n",
      "\t\"Budget\" REAL, \n",
      "\tPRIMARY KEY (\"CampaignID\")\n",
      ")\n",
      "\n",
      "/*\n",
      "3 rows from Campaign table:\n",
      "CampaignID\tName\tChannel\tStartDate\tEndDate\tBudget\n",
      "1\tCampaign 1\tEmail\t2024-11-29\t2024-12-17\t3109.8\n",
      "2\tCampaign 2\tTikTok\t2025-03-28\t2025-05-11\t4123.0\n",
      "3\tCampaign 3\tFacebook\t2025-01-31\t2025-03-11\t1748.71\n",
      "*/\n",
      "\n",
      "<class 'langchain_core.messages.ai.AIMessage'>\n",
      "\n",
      "\n",
      "\n",
      "<class 'langchain_core.messages.tool.ToolMessage'>\n",
      "\n",
      "SELECT COUNT(*) AS TikTokCampaignCount FROM Campaign WHERE Channel = 'TikTok';\n",
      "\n",
      "<class 'langchain_core.messages.ai.AIMessage'>\n",
      "\n",
      "\n",
      "\n",
      "<class 'langchain_core.messages.tool.ToolMessage'>\n",
      "\n",
      "[(1,)]\n",
      "\n",
      "<class 'langchain_core.messages.ai.AIMessage'>\n",
      "\n",
      "Có 1 chiến dịch truyền thông trên kênh TikTok trong cơ sở dữ liệu.\n",
      "\n"
     ]
    }
   ],
   "source": [
    "for step in output_state[\"messages\"]:\n",
    "    print(type(step))\n",
    "    print()\n",
    "    print(step.content)\n",
    "    print()"
   ]
  },
  {
   "cell_type": "code",
   "execution_count": 35,
   "id": "3a84da4c",
   "metadata": {},
   "outputs": [
    {
     "data": {
      "text/plain": [
       "ToolMessage(content=\"SELECT COUNT(*) AS TikTokCampaignCount FROM Campaign WHERE Channel = 'TikTok';\", name='sql_db_query_checker', id='8b3cea55-bb89-498d-bd28-b824166134fb', tool_call_id='call_Q9oui9Aq5wyFS5LvvOuVlJ8q')"
      ]
     },
     "execution_count": 35,
     "metadata": {},
     "output_type": "execute_result"
    }
   ],
   "source": [
    "output_state[\"messages\"][6]"
   ]
  },
  {
   "cell_type": "code",
   "execution_count": 36,
   "id": "b52465bf",
   "metadata": {},
   "outputs": [
    {
     "data": {
      "text/plain": [
       "{'messages': [HumanMessage(content='Có bao nhiêu chiến dịch truyền thông trên tiktok?', additional_kwargs={}, response_metadata={}, id='b7644129-593e-4bb8-b033-85c0c420687f'),\n",
       "  AIMessage(content='', additional_kwargs={'tool_calls': [{'id': 'call_qyRMRRsuM5a37hXQqp2OoRoA', 'function': {'arguments': '{}', 'name': 'sql_db_list_tables'}, 'type': 'function'}], 'refusal': None}, response_metadata={'token_usage': {'completion_tokens': 13, 'prompt_tokens': 530, 'total_tokens': 543, 'completion_tokens_details': {'accepted_prediction_tokens': 0, 'audio_tokens': 0, 'reasoning_tokens': 0, 'rejected_prediction_tokens': 0}, 'prompt_tokens_details': {'audio_tokens': 0, 'cached_tokens': 0}}, 'model_name': 'gpt-4.1-mini-2025-04-14', 'system_fingerprint': 'fp_4f3d32ad4e', 'id': 'chatcmpl-CGMZ98Y9pEstm8cq2Ypja7kJ8eAMw', 'service_tier': None, 'prompt_filter_results': [{'prompt_index': 0, 'content_filter_results': {'hate': {'filtered': False, 'severity': 'safe'}, 'jailbreak': {'filtered': False, 'detected': False}, 'self_harm': {'filtered': False, 'severity': 'safe'}, 'sexual': {'filtered': False, 'severity': 'safe'}, 'violence': {'filtered': False, 'severity': 'safe'}}}], 'finish_reason': 'tool_calls', 'logprobs': None, 'content_filter_results': {}}, id='run--0e65a95c-e2d3-491d-b4f1-f0e1d701a951-0', tool_calls=[{'name': 'sql_db_list_tables', 'args': {}, 'id': 'call_qyRMRRsuM5a37hXQqp2OoRoA', 'type': 'tool_call'}], usage_metadata={'input_tokens': 530, 'output_tokens': 13, 'total_tokens': 543, 'input_token_details': {'audio': 0, 'cache_read': 0}, 'output_token_details': {'audio': 0, 'reasoning': 0}}),\n",
       "  ToolMessage(content='AdSpend, Campaign, Customers, Feedback, Leads, Sales', name='sql_db_list_tables', id='6bd78e83-3264-457c-b4cf-3745e8cc1f8e', tool_call_id='call_qyRMRRsuM5a37hXQqp2OoRoA'),\n",
       "  AIMessage(content='', additional_kwargs={'tool_calls': [{'id': 'call_RXOLVNJS7ByPwjKEaInycNqY', 'function': {'arguments': '{\"table_names\":\"Campaign\"}', 'name': 'sql_db_schema'}, 'type': 'function'}], 'refusal': None}, response_metadata={'token_usage': {'completion_tokens': 17, 'prompt_tokens': 564, 'total_tokens': 581, 'completion_tokens_details': {'accepted_prediction_tokens': 0, 'audio_tokens': 0, 'reasoning_tokens': 0, 'rejected_prediction_tokens': 0}, 'prompt_tokens_details': {'audio_tokens': 0, 'cached_tokens': 0}}, 'model_name': 'gpt-4.1-mini-2025-04-14', 'system_fingerprint': 'fp_4f3d32ad4e', 'id': 'chatcmpl-CGMZA998csVlw7tNmdn5VCpGEXaKe', 'service_tier': None, 'prompt_filter_results': [{'prompt_index': 0, 'content_filter_results': {'hate': {'filtered': False, 'severity': 'safe'}, 'jailbreak': {'filtered': False, 'detected': False}, 'self_harm': {'filtered': False, 'severity': 'safe'}, 'sexual': {'filtered': False, 'severity': 'safe'}, 'violence': {'filtered': False, 'severity': 'safe'}}}], 'finish_reason': 'tool_calls', 'logprobs': None, 'content_filter_results': {}}, id='run--705df500-98bf-4b2a-88a3-415b2dc3657e-0', tool_calls=[{'name': 'sql_db_schema', 'args': {'table_names': 'Campaign'}, 'id': 'call_RXOLVNJS7ByPwjKEaInycNqY', 'type': 'tool_call'}], usage_metadata={'input_tokens': 564, 'output_tokens': 17, 'total_tokens': 581, 'input_token_details': {'audio': 0, 'cache_read': 0}, 'output_token_details': {'audio': 0, 'reasoning': 0}}),\n",
       "  ToolMessage(content='\\nCREATE TABLE \"Campaign\" (\\n\\t\"CampaignID\" INTEGER, \\n\\t\"Name\" TEXT, \\n\\t\"Channel\" TEXT, \\n\\t\"StartDate\" DATE, \\n\\t\"EndDate\" DATE, \\n\\t\"Budget\" REAL, \\n\\tPRIMARY KEY (\"CampaignID\")\\n)\\n\\n/*\\n3 rows from Campaign table:\\nCampaignID\\tName\\tChannel\\tStartDate\\tEndDate\\tBudget\\n1\\tCampaign 1\\tEmail\\t2024-11-29\\t2024-12-17\\t3109.8\\n2\\tCampaign 2\\tTikTok\\t2025-03-28\\t2025-05-11\\t4123.0\\n3\\tCampaign 3\\tFacebook\\t2025-01-31\\t2025-03-11\\t1748.71\\n*/', name='sql_db_schema', id='9da5f3b6-a505-44e9-9338-5bb19351b0f9', tool_call_id='call_RXOLVNJS7ByPwjKEaInycNqY'),\n",
       "  AIMessage(content='', additional_kwargs={'tool_calls': [{'id': 'call_Q9oui9Aq5wyFS5LvvOuVlJ8q', 'function': {'arguments': '{\"query\":\"SELECT COUNT(*) AS TikTokCampaignCount FROM Campaign WHERE Channel = \\'TikTok\\';\"}', 'name': 'sql_db_query_checker'}, 'type': 'function'}], 'refusal': None}, response_metadata={'token_usage': {'completion_tokens': 33, 'prompt_tokens': 751, 'total_tokens': 784, 'completion_tokens_details': {'accepted_prediction_tokens': 0, 'audio_tokens': 0, 'reasoning_tokens': 0, 'rejected_prediction_tokens': 0}, 'prompt_tokens_details': {'audio_tokens': 0, 'cached_tokens': 0}}, 'model_name': 'gpt-4.1-mini-2025-04-14', 'system_fingerprint': 'fp_4f3d32ad4e', 'id': 'chatcmpl-CGMZAjg93gBtgNHyweYHzdRA2dnOr', 'service_tier': None, 'prompt_filter_results': [{'prompt_index': 0, 'content_filter_results': {'hate': {'filtered': False, 'severity': 'safe'}, 'jailbreak': {'filtered': False, 'detected': False}, 'self_harm': {'filtered': False, 'severity': 'safe'}, 'sexual': {'filtered': False, 'severity': 'safe'}, 'violence': {'filtered': False, 'severity': 'safe'}}}], 'finish_reason': 'tool_calls', 'logprobs': None, 'content_filter_results': {}}, id='run--911c16ed-12e1-4548-ba67-d09978069221-0', tool_calls=[{'name': 'sql_db_query_checker', 'args': {'query': \"SELECT COUNT(*) AS TikTokCampaignCount FROM Campaign WHERE Channel = 'TikTok';\"}, 'id': 'call_Q9oui9Aq5wyFS5LvvOuVlJ8q', 'type': 'tool_call'}], usage_metadata={'input_tokens': 751, 'output_tokens': 33, 'total_tokens': 784, 'input_token_details': {'audio': 0, 'cache_read': 0}, 'output_token_details': {'audio': 0, 'reasoning': 0}}),\n",
       "  ToolMessage(content=\"SELECT COUNT(*) AS TikTokCampaignCount FROM Campaign WHERE Channel = 'TikTok';\", name='sql_db_query_checker', id='8b3cea55-bb89-498d-bd28-b824166134fb', tool_call_id='call_Q9oui9Aq5wyFS5LvvOuVlJ8q'),\n",
       "  AIMessage(content='', additional_kwargs={'tool_calls': [{'id': 'call_AtFD8peu0ZzvdJIoEWG4BXyo', 'function': {'arguments': '{\"query\":\"SELECT COUNT(*) AS TikTokCampaignCount FROM Campaign WHERE Channel = \\'TikTok\\';\"}', 'name': 'sql_db_query'}, 'type': 'function'}], 'refusal': None}, response_metadata={'token_usage': {'completion_tokens': 32, 'prompt_tokens': 810, 'total_tokens': 842, 'completion_tokens_details': {'accepted_prediction_tokens': 0, 'audio_tokens': 0, 'reasoning_tokens': 0, 'rejected_prediction_tokens': 0}, 'prompt_tokens_details': {'audio_tokens': 0, 'cached_tokens': 0}}, 'model_name': 'gpt-4.1-mini-2025-04-14', 'system_fingerprint': 'fp_4f3d32ad4e', 'id': 'chatcmpl-CGMZFO6ItARGCV0FmDdoJ0wc4522P', 'service_tier': None, 'prompt_filter_results': [{'prompt_index': 0, 'content_filter_results': {'hate': {'filtered': False, 'severity': 'safe'}, 'jailbreak': {'filtered': False, 'detected': False}, 'self_harm': {'filtered': False, 'severity': 'safe'}, 'sexual': {'filtered': False, 'severity': 'safe'}, 'violence': {'filtered': False, 'severity': 'safe'}}}], 'finish_reason': 'tool_calls', 'logprobs': None, 'content_filter_results': {}}, id='run--43e88bf1-3fcb-4379-a4df-80c34f0f1939-0', tool_calls=[{'name': 'sql_db_query', 'args': {'query': \"SELECT COUNT(*) AS TikTokCampaignCount FROM Campaign WHERE Channel = 'TikTok';\"}, 'id': 'call_AtFD8peu0ZzvdJIoEWG4BXyo', 'type': 'tool_call'}], usage_metadata={'input_tokens': 810, 'output_tokens': 32, 'total_tokens': 842, 'input_token_details': {'audio': 0, 'cache_read': 0}, 'output_token_details': {'audio': 0, 'reasoning': 0}}),\n",
       "  ToolMessage(content='[(1,)]', name='sql_db_query', id='36711b12-1892-40f3-9d43-7f8c658837f0', tool_call_id='call_AtFD8peu0ZzvdJIoEWG4BXyo'),\n",
       "  AIMessage(content='Có 1 chiến dịch truyền thông trên kênh TikTok trong cơ sở dữ liệu.', additional_kwargs={'refusal': None}, response_metadata={'token_usage': {'completion_tokens': 21, 'prompt_tokens': 854, 'total_tokens': 875, 'completion_tokens_details': {'accepted_prediction_tokens': 0, 'audio_tokens': 0, 'reasoning_tokens': 0, 'rejected_prediction_tokens': 0}, 'prompt_tokens_details': {'audio_tokens': 0, 'cached_tokens': 0}}, 'model_name': 'gpt-4.1-mini-2025-04-14', 'system_fingerprint': 'fp_4f3d32ad4e', 'id': 'chatcmpl-CGMZFJP8peq3YXeywPf5Hu95jikbF', 'service_tier': None, 'prompt_filter_results': [{'prompt_index': 0, 'content_filter_results': {'hate': {'filtered': False, 'severity': 'safe'}, 'jailbreak': {'filtered': False, 'detected': False}, 'self_harm': {'filtered': False, 'severity': 'safe'}, 'sexual': {'filtered': False, 'severity': 'safe'}, 'violence': {'filtered': False, 'severity': 'safe'}}}], 'finish_reason': 'stop', 'logprobs': None, 'content_filter_results': {'hate': {'filtered': False, 'severity': 'safe'}, 'self_harm': {'filtered': False, 'severity': 'safe'}, 'sexual': {'filtered': False, 'severity': 'safe'}, 'violence': {'filtered': False, 'severity': 'safe'}}}, id='run--ae854473-b22d-4f77-81fd-5bd699fc5bb2-0', usage_metadata={'input_tokens': 854, 'output_tokens': 21, 'total_tokens': 875, 'input_token_details': {'audio': 0, 'cache_read': 0}, 'output_token_details': {'audio': 0, 'reasoning': 0}})]}"
      ]
     },
     "execution_count": 36,
     "metadata": {},
     "output_type": "execute_result"
    }
   ],
   "source": [
    "output_state"
   ]
  },
  {
   "cell_type": "code",
   "execution_count": null,
   "id": "7a54861e",
   "metadata": {},
   "outputs": [
    {
     "data": {
      "text/plain": [
       "langchain_core.messages.human.HumanMessage"
      ]
     },
     "execution_count": 40,
     "metadata": {},
     "output_type": "execute_result"
    }
   ],
   "source": [
    "from langchain_core.messages import HumanMessage, AIMessage, ToolMessage\n",
    "\n",
    "HumanMessage.pretty_print\n",
    "\n",
    "(output_state[\"messages\"][0])"
   ]
  },
  {
   "cell_type": "code",
   "execution_count": 48,
   "id": "9e4e023a",
   "metadata": {},
   "outputs": [
    {
     "name": "stdout",
     "output_type": "stream",
     "text": [
      "================================ Human Message =================================\n",
      "\n",
      "Hello\n"
     ]
    }
   ],
   "source": [
    "print(HumanMessage(content=\"Hello\").pretty_repr())"
   ]
  },
  {
   "cell_type": "code",
   "execution_count": 45,
   "id": "122ad59b",
   "metadata": {},
   "outputs": [
    {
     "name": "stdout",
     "output_type": "stream",
     "text": [
      "================================\u001b[1m Human Message \u001b[0m=================================\n",
      "\n",
      "Có bao nhiêu chiến dịch truyền thông trên tiktok?\n",
      "==================================\u001b[1m Ai Message \u001b[0m==================================\n",
      "Tool Calls:\n",
      "  sql_db_list_tables (call_qyRMRRsuM5a37hXQqp2OoRoA)\n",
      " Call ID: call_qyRMRRsuM5a37hXQqp2OoRoA\n",
      "  Args:\n",
      "=================================\u001b[1m Tool Message \u001b[0m=================================\n",
      "Name: sql_db_list_tables\n",
      "\n",
      "AdSpend, Campaign, Customers, Feedback, Leads, Sales\n",
      "==================================\u001b[1m Ai Message \u001b[0m==================================\n",
      "Tool Calls:\n",
      "  sql_db_schema (call_RXOLVNJS7ByPwjKEaInycNqY)\n",
      " Call ID: call_RXOLVNJS7ByPwjKEaInycNqY\n",
      "  Args:\n",
      "    table_names: Campaign\n",
      "=================================\u001b[1m Tool Message \u001b[0m=================================\n",
      "Name: sql_db_schema\n",
      "\n",
      "\n",
      "CREATE TABLE \"Campaign\" (\n",
      "\t\"CampaignID\" INTEGER, \n",
      "\t\"Name\" TEXT, \n",
      "\t\"Channel\" TEXT, \n",
      "\t\"StartDate\" DATE, \n",
      "\t\"EndDate\" DATE, \n",
      "\t\"Budget\" REAL, \n",
      "\tPRIMARY KEY (\"CampaignID\")\n",
      ")\n",
      "\n",
      "/*\n",
      "3 rows from Campaign table:\n",
      "CampaignID\tName\tChannel\tStartDate\tEndDate\tBudget\n",
      "1\tCampaign 1\tEmail\t2024-11-29\t2024-12-17\t3109.8\n",
      "2\tCampaign 2\tTikTok\t2025-03-28\t2025-05-11\t4123.0\n",
      "3\tCampaign 3\tFacebook\t2025-01-31\t2025-03-11\t1748.71\n",
      "*/\n",
      "==================================\u001b[1m Ai Message \u001b[0m==================================\n",
      "Tool Calls:\n",
      "  sql_db_query_checker (call_Q9oui9Aq5wyFS5LvvOuVlJ8q)\n",
      " Call ID: call_Q9oui9Aq5wyFS5LvvOuVlJ8q\n",
      "  Args:\n",
      "    query: SELECT COUNT(*) AS TikTokCampaignCount FROM Campaign WHERE Channel = 'TikTok';\n",
      "=================================\u001b[1m Tool Message \u001b[0m=================================\n",
      "Name: sql_db_query_checker\n",
      "\n",
      "SELECT COUNT(*) AS TikTokCampaignCount FROM Campaign WHERE Channel = 'TikTok';\n",
      "==================================\u001b[1m Ai Message \u001b[0m==================================\n",
      "Tool Calls:\n",
      "  sql_db_query (call_AtFD8peu0ZzvdJIoEWG4BXyo)\n",
      " Call ID: call_AtFD8peu0ZzvdJIoEWG4BXyo\n",
      "  Args:\n",
      "    query: SELECT COUNT(*) AS TikTokCampaignCount FROM Campaign WHERE Channel = 'TikTok';\n",
      "=================================\u001b[1m Tool Message \u001b[0m=================================\n",
      "Name: sql_db_query\n",
      "\n",
      "[(1,)]\n",
      "==================================\u001b[1m Ai Message \u001b[0m==================================\n",
      "\n",
      "Có 1 chiến dịch truyền thông trên kênh TikTok trong cơ sở dữ liệu.\n"
     ]
    }
   ],
   "source": [
    "for message in output_state[\"messages\"]:\n",
    "    message.pretty_print()"
   ]
  },
  {
   "cell_type": "code",
   "execution_count": null,
   "id": "9bd7f715",
   "metadata": {},
   "outputs": [],
   "source": []
  }
 ],
 "metadata": {
  "kernelspec": {
   "display_name": "proposal",
   "language": "python",
   "name": "python3"
  },
  "language_info": {
   "codemirror_mode": {
    "name": "ipython",
    "version": 3
   },
   "file_extension": ".py",
   "mimetype": "text/x-python",
   "name": "python",
   "nbconvert_exporter": "python",
   "pygments_lexer": "ipython3",
   "version": "3.12.11"
  }
 },
 "nbformat": 4,
 "nbformat_minor": 5
}
